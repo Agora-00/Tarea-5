{
  "nbformat": 4,
  "nbformat_minor": 0,
  "metadata": {
    "colab": {
      "name": "CodigoDeClase.ipynb",
      "provenance": []
    },
    "kernelspec": {
      "name": "python3",
      "display_name": "Python 3"
    },
    "language_info": {
      "name": "python"
    }
  },
  "cells": [
    {
      "cell_type": "code",
      "metadata": {
        "colab": {
          "base_uri": "https://localhost:8080/"
        },
        "id": "xROqowPtxnUy",
        "outputId": "6a3fda31-a683-4fe4-a368-259b0762c6f3"
      },
      "source": [
        "!cat junio.dat"
      ],
      "execution_count": null,
      "outputs": [
        {
          "output_type": "stream",
          "name": "stdout",
          "text": [
            "cat: junio.dat: No such file or directory\n"
          ]
        }
      ]
    },
    {
      "cell_type": "code",
      "metadata": {
        "colab": {
          "base_uri": "https://localhost:8080/"
        },
        "id": "5ZcdCvoojEXW",
        "outputId": "859b9c7f-b9a6-4b85-f0b9-fe833596a981"
      },
      "source": [
        "archivo = open(\"junio.dat\", 'rt', encoding = 'latin-1')\n",
        "print(archivo.read())"
      ],
      "execution_count": null,
      "outputs": [
        {
          "output_type": "stream",
          "name": "stdout",
          "text": [
            "numero de trabajador, nombres, paterno, materno, horas extra, sueldo base, aÃ±o de ingreso\n",
            "2345,CARLOS,PEREZ,CASTILLO,0,9850,2017\n",
            "5754,ANGEL,GOMEZ,GARRIDO,1,9850,2020\n",
            "5345,JESUS,MARTIN,SANTOS,2,9850,2016\n",
            "3267,DAVID,JIMENEZ,LOZANO,2,9850,2017\n",
            "8765,PEDRO,RUIZ,GUERRERO,2,9850,2017\n",
            "5454,DANIEL,HERNANDEZ,CANO,3,9850,2018\n",
            "3456,ALEJANDRO,DIAZ,PRIETO,2,9850,2018\n",
            "3445,MARIA,MORENO,MENDEZ,1,9850,2018\n",
            "9088,ALBERTO,MUOZ,CRUZ,1,9850,2017\n",
            "8877,RAFAEL,ALVAREZ,FLORES,2,9850,2017\n",
            "6767,FERNANDO,ROMERO,HERRERA,4,9850,2019\n",
            "5654,PABLO,ALONSO,GALLEGO,1,9850,2019\n",
            "4323,JORGE,GUTIERREZ,MARQUEZ,2,9850,2020\n",
            "2232,RAMON,NAVARRO,LEON,1,9850,2016\n"
          ]
        }
      ]
    },
    {
      "cell_type": "code",
      "metadata": {
        "colab": {
          "base_uri": "https://localhost:8080/"
        },
        "id": "9XlUkPWUjoH1",
        "outputId": "8ea2fc86-9e55-417b-b5e7-2963c2a10136"
      },
      "source": [
        "class Trabajador:\n",
        "    def __init__(self, nt,nom, pat, mat,he,sb,ai):\n",
        "        self.__numero_trabajador = nt\n",
        "        self.__nombres  = nom\n",
        "        self.__apellido_paterno = pat\n",
        "        self.__apellido_materno = mat\n",
        "        self.__horas_extra = he\n",
        "        self.__sueldo_base = sb\n",
        "        self.__anio_ingreso = ai\n",
        "        \n",
        "        \n",
        "    def set_numero_trabajador(self, nt):\n",
        "        self.__numero_trabajador = nt\n",
        "\n",
        "\n",
        "    def get_numero_trabajador(self):\n",
        "        return self.__numero_trabajador\n",
        "\n",
        "    def set_nombres(self, nom):\n",
        "        self.__nombres = nom\n",
        "    def get_nombres(self):\n",
        "        return self.__nombre\n",
        "\n",
        "    def set_apellido_paterno(self, ap):\n",
        "        self.__apellido_paterno = pat\n",
        "    def get_apaellido_paterno(self):\n",
        "        return self.__apellido_paterno\n",
        "\n",
        "    def set_apellido_materno(self, mat):\n",
        "        self.__apellido_materno = mat\n",
        "    def get_apaellido_materno(self):\n",
        "        return self.__apellido_materno\n",
        "\n",
        "    def set_horas_extra(self, he):\n",
        "        self.__horas_extra = he\n",
        "    def get_horas_extra(self):\n",
        "        return self.__horas_extra\n",
        "\n",
        "    def set_sueldo_base( self, sb):\n",
        "        self.__sueldo_base = sb\n",
        "    def get_sueldo_base(self):\n",
        "        return self.__sueldo_base\n",
        "\n",
        "    def set_anio_ingreso(self, ai):\n",
        "        self.__anio_ingreso = ai\n",
        "    def get_anio_ingreso(self):\n",
        "        return self.__anio_ingreso\n",
        "\n",
        "        # metoods de uso general,---> metodos que hacen claculos de la logica de negocio, como calcular horas extra , etc.\n",
        "    def calcular_sueldo_mensual( self ):\n",
        "        anios = 2021 - self.get_anio_ingreso()\n",
        "        dias = 26 # esto se puede calcular con programacion, importando bibliotecas de dia- fecha\n",
        "        \n",
        "        sueldo = self.get_sueldo_base()\n",
        "        #despues de calcular el sueldo base, agregarle las horas extra\n",
        "        sueldo += self.get_horas_extra() * 276.5\n",
        "\n",
        "        #agragar prestacion por antiguedad\n",
        "\n",
        "        sueldo = sueldo + (sueldo * anios * 0.03)\n",
        "        return sueldo\n",
        "\n",
        "    def to_string( self ):\n",
        "        return \"Nombre: \" + self.__nombres + \"sueldo $ \" + str(self.calcular_sueldo_mensual())\n",
        "\n",
        "    def calcular_antiguedad( self):\n",
        "        return 2021 - self.get_anio_ingreso()\n",
        "        \n",
        "emp = Trabajador(2345, \"CARLOS\" ,\"PEREZ\",\"CASTILLO\",1,9850,2017)\n",
        "print(emp.get_sueldo_base())\n",
        "print(emp.get_horas_extra())\n",
        "print(emp.calcular_antiguedad())\n",
        "print(emp.to_string())\n",
        "\n"
      ],
      "execution_count": null,
      "outputs": [
        {
          "output_type": "stream",
          "name": "stdout",
          "text": [
            "9850\n",
            "1\n",
            "4\n",
            "Nombre: CARLOSsueldo $ 11341.68\n"
          ]
        }
      ]
    },
    {
      "cell_type": "code",
      "metadata": {
        "colab": {
          "base_uri": "https://localhost:8080/",
          "height": 130
        },
        "id": "R-C2gEV-kLlm",
        "outputId": "177f6f44-65b5-4a91-a0c9-87b5ba0e9ccf"
      },
      "source": [
        "class NominaADT:\n",
        "    def __init__( self, ruta_archivo ):\n",
        "        # va a abrir el archivo y determinar el numero de empleados, es decir el numero de lineas lo va a meter en --> num emp\n",
        "        archivo = open(\"junio.dat\", 'rt', encoding = 'latin -1')\n",
        "        empleados = archivo.readlines()\n",
        "        \n",
        "        del empleados [0]\n",
        "        for index in range(len(empleados)):\n",
        "            empleados[index]= empleados [index].strip().split(',')\n",
        "        \n",
        "        self.__data = Array(len(empleados))\n",
        "        cont = 0\n",
        "        \n",
        "        for emp in empleados:\n",
        "            tmp = Trabajador(emp[0], emp[1], emp[2], emp [3], int(emp[4]), int(emp[5]), int(emp[6]) )\n",
        "            self.__data.set_item( tmp, cont)\n",
        "            cont +=1\n",
        "        #self.__data = Array( num_emp )\n",
        "\n",
        "        \n",
        "            # va a iterar sobre el array y hacer el calculo de sueldo\n",
        "    def buscar_mas_antiguo(self):\n",
        "        #for anti x in range(self.data.get)\n",
        "\n",
        "            # este va a iterar y buscara en el array el de mayor antiguedad\n",
        "    def buscar_menor_antiguedad(self):\n",
        "        pass   \n",
        "  \n",
        "            # de igual forma tienes qu ehacer lo mismo de arriba pero para el menor\n",
        "\n",
        "    def print_empleados( self ):\n",
        "        for index in range(self.__data.get_length()):\n",
        "            print(self.__data.get_item(index).to_string())\n",
        "\n",
        "ejemplo = NominaADT(\"junio.dat\")\n",
        "ejemplo.print_empleados()\n"
      ],
      "execution_count": null,
      "outputs": [
        {
          "output_type": "error",
          "ename": "SyntaxError",
          "evalue": "ignored",
          "traceback": [
            "\u001b[0;36m  File \u001b[0;32m\"<ipython-input-9-16733fc1d1fd>\"\u001b[0;36m, line \u001b[0;32m23\u001b[0m\n\u001b[0;31m    for anti x in range(self.data.get)\u001b[0m\n\u001b[0m             ^\u001b[0m\n\u001b[0;31mSyntaxError\u001b[0m\u001b[0;31m:\u001b[0m invalid syntax\n"
          ]
        }
      ]
    }
  ]
}